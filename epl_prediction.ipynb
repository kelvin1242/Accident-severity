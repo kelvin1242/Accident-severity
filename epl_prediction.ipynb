{
  "nbformat": 4,
  "nbformat_minor": 0,
  "metadata": {
    "colab": {
      "provenance": [],
      "authorship_tag": "ABX9TyOc6KKTHn+mAoXLFo+u0G9n",
      "include_colab_link": true
    },
    "kernelspec": {
      "name": "python3",
      "display_name": "Python 3"
    },
    "language_info": {
      "name": "python"
    }
  },
  "cells": [
    {
      "cell_type": "markdown",
      "metadata": {
        "id": "view-in-github",
        "colab_type": "text"
      },
      "source": [
        "<a href=\"https://colab.research.google.com/github/kelvin1242/Accident-severity/blob/main/epl_prediction.ipynb\" target=\"_parent\"><img src=\"https://colab.research.google.com/assets/colab-badge.svg\" alt=\"Open In Colab\"/></a>"
      ]
    },
    {
      "cell_type": "code",
      "source": [
        "import requests\n",
        "import zipfile\n",
        "import os\n",
        "\n",
        "# URL for the Premier League data (you can replace this with the actual URL for the latest dataset)\n",
        "url = \"https://www.football-data.co.uk/mmz4281/2223/E0.csv\"  # Update this URL based on current season\n",
        "\n",
        "# Download the CSV file\n",
        "response = requests.get(url)\n",
        "\n",
        "# Save the content to a file\n",
        "with open(\"premier_league_2223.csv\", \"wb\") as file:\n",
        "    file.write(response.content)\n",
        "\n",
        "# If the data is in a zip file, you can use zipfile to extract it:\n",
        "# with zipfile.ZipFile(\"file.zip\", 'r') as zip_ref:\n",
        "#     zip_ref.extractall(\"data_folder\")\n"
      ],
      "metadata": {
        "id": "Fc6JyPxeXD_P"
      },
      "execution_count": 50,
      "outputs": []
    },
    {
      "cell_type": "code",
      "source": [
        "import pandas as pd\n",
        "\n",
        "# Load the data into a DataFrame\n",
        "df = pd.read_csv(\"premier_league_2223.csv\")\n",
        "\n",
        "# Let's take a look at the first few rows\n",
        "df.head()\n",
        "\n",
        "# Clean up the dataset (you can filter columns you need for the model)\n",
        "df = df[['HomeTeam', 'AwayTeam', 'FTHG', 'FTAG', 'FTR', 'HS', 'AS', 'HST', 'AST', 'HF', 'AF', 'HC', 'AC', 'HY', 'AY', 'HR', 'AR']]\n",
        "\n",
        "# Rename columns to be more understandable\n",
        "df.columns = ['HomeTeam', 'AwayTeam', 'HomeGoals', 'AwayGoals', 'Result', 'HomeShots', 'AwayShots', 'HomeShotsOnTarget', 'AwayShotsOnTarget',\n",
        "              'HomeFouls', 'AwayFouls', 'HomeCorners', 'AwayCorners', 'HomeYellowCards', 'AwayYellowCards', 'HomeRedCards', 'AwayRedCards']\n",
        "\n"
      ],
      "metadata": {
        "id": "8khTml8sXJa_"
      },
      "execution_count": 52,
      "outputs": []
    },
    {
      "cell_type": "code",
      "source": [
        "from sklearn.model_selection import train_test_split\n",
        "from sklearn.ensemble import RandomForestClassifier\n",
        "from sklearn.metrics import accuracy_score, confusion_matrix\n",
        "\n",
        "# Preprocessing - Encoding categorical variables and handling missing data\n",
        "df['HomeTeam'] = df['HomeTeam'].astype('category').cat.codes\n",
        "df['AwayTeam'] = df['AwayTeam'].astype('category').cat.codes\n",
        "df['Result'] = df['Result'].map({'H': 1, 'D': 0, 'A': -1})  # 1 for home win, 0 for draw, -1 for away win\n",
        "\n",
        "# Fill missing values with mean or median\n",
        "df = df.fillna(df.mean())\n",
        "\n",
        "# Features (X) and target variable (y)\n",
        "X = df[['HomeTeam', 'AwayTeam', 'HomeShots', 'AwayShots', 'HomeShotsOnTarget', 'AwayShotsOnTarget', 'HomeFouls', 'AwayFouls',\n",
        "        'HomeCorners', 'AwayCorners', 'HomeYellowCards', 'AwayYellowCards', 'HomeRedCards', 'AwayRedCards']]\n",
        "\n",
        "y = df['Result']\n",
        "\n",
        "# Train-test split\n",
        "X_train, X_test, y_train, y_test = train_test_split(X, y, test_size=0.2, random_state=42)\n",
        "\n",
        "# Train a Random Forest model\n",
        "model = RandomForestClassifier(n_estimators=100, random_state=42)\n",
        "model.fit(X_train, y_train)\n",
        "\n",
        "# Predicting results on the test set\n",
        "y_pred = model.predict(X_test)\n",
        "\n",
        "# Evaluate the model\n",
        "print(\"Accuracy:\", accuracy_score(y_test, y_pred))\n",
        "print(\"Confusion Matrix:\\n\", confusion_matrix(y_test, y_pred))\n"
      ],
      "metadata": {
        "colab": {
          "base_uri": "https://localhost:8080/"
        },
        "id": "HphGNJQfXY5V",
        "outputId": "dd40d529-6f83-4796-a1b2-80031f972494"
      },
      "execution_count": 53,
      "outputs": [
        {
          "output_type": "stream",
          "name": "stdout",
          "text": [
            "Accuracy: 0.5131578947368421\n",
            "Confusion Matrix:\n",
            " [[13  4  5]\n",
            " [ 6  0 13]\n",
            " [ 8  1 26]]\n"
          ]
        }
      ]
    },
    {
      "cell_type": "code",
      "source": [
        "# Load the dataset\n",
        "df = pd.read_csv(\"premier_league_2223.csv\")\n",
        "\n",
        "# Check the columns of the dataframe\n",
        "print(df.columns)\n"
      ],
      "metadata": {
        "colab": {
          "base_uri": "https://localhost:8080/"
        },
        "id": "siGj7TK4YqAj",
        "outputId": "2c729e5f-21ef-404a-e50b-ff13f27857c2"
      },
      "execution_count": 59,
      "outputs": [
        {
          "output_type": "stream",
          "name": "stdout",
          "text": [
            "Index(['Div', 'Date', 'Time', 'HomeTeam', 'AwayTeam', 'FTHG', 'FTAG', 'FTR',\n",
            "       'HTHG', 'HTAG',\n",
            "       ...\n",
            "       'AvgC<2.5', 'AHCh', 'B365CAHH', 'B365CAHA', 'PCAHH', 'PCAHA', 'MaxCAHH',\n",
            "       'MaxCAHA', 'AvgCAHH', 'AvgCAHA'],\n",
            "      dtype='object', length=106)\n"
          ]
        }
      ]
    },
    {
      "cell_type": "code",
      "source": [
        "# Load the dataset\n",
        "df = pd.read_csv(\"premier_league_2223.csv\")\n",
        "\n",
        "# Check the columns of the dataframe\n",
        "print(df.columns)\n",
        "\n",
        "# Remove any unnecessary columns (if necessary)\n",
        "df = df[['HomeTeam', 'AwayTeam', 'FTHG', 'FTAG', 'FTR', 'HS', 'AS', 'HST', 'AST', 'HF', 'AF', 'HC', 'AC', 'HY', 'AY', 'HR', 'AR']]\n"
      ],
      "metadata": {
        "colab": {
          "base_uri": "https://localhost:8080/"
        },
        "id": "yH14J_zwYvux",
        "outputId": "dc2a0ce0-100e-4ef1-80b8-06147f6af8f0"
      },
      "execution_count": 60,
      "outputs": [
        {
          "output_type": "stream",
          "name": "stdout",
          "text": [
            "Index(['Div', 'Date', 'Time', 'HomeTeam', 'AwayTeam', 'FTHG', 'FTAG', 'FTR',\n",
            "       'HTHG', 'HTAG',\n",
            "       ...\n",
            "       'AvgC<2.5', 'AHCh', 'B365CAHH', 'B365CAHA', 'PCAHH', 'PCAHA', 'MaxCAHH',\n",
            "       'MaxCAHA', 'AvgCAHH', 'AvgCAHA'],\n",
            "      dtype='object', length=106)\n"
          ]
        }
      ]
    },
    {
      "cell_type": "code",
      "source": [
        "print(df.shape)  # This will give you the number of rows and columns\n"
      ],
      "metadata": {
        "colab": {
          "base_uri": "https://localhost:8080/"
        },
        "id": "vT0GJEQfY1VI",
        "outputId": "5354320d-bbe0-40ef-dcbe-dc4634737589"
      },
      "execution_count": 61,
      "outputs": [
        {
          "output_type": "stream",
          "name": "stdout",
          "text": [
            "(380, 17)\n"
          ]
        }
      ]
    },
    {
      "cell_type": "code",
      "source": [
        "print(df.head())\n"
      ],
      "metadata": {
        "colab": {
          "base_uri": "https://localhost:8080/"
        },
        "id": "VgSk8I7HY9cd",
        "outputId": "37650ef2-88a0-4f87-851e-ca9f028db139"
      },
      "execution_count": 62,
      "outputs": [
        {
          "output_type": "stream",
          "name": "stdout",
          "text": [
            "         HomeTeam       AwayTeam  FTHG  FTAG FTR  HS  AS  HST  AST  HF  AF  \\\n",
            "0  Crystal Palace        Arsenal     0     2   A  10  10    2    2  16  11   \n",
            "1          Fulham      Liverpool     2     2   D   9  11    3    4   7   9   \n",
            "2     Bournemouth    Aston Villa     2     0   H   7  15    3    2  18  16   \n",
            "3           Leeds         Wolves     2     1   H  12  15    4    6  13   9   \n",
            "4       Newcastle  Nott'm Forest     2     0   H  23   5   10    0   9  14   \n",
            "\n",
            "   HC  AC  HY  AY  HR  AR  \n",
            "0   3   5   1   2   0   0  \n",
            "1   4   4   2   0   0   0  \n",
            "2   5   5   3   3   0   0  \n",
            "3   6   4   2   0   0   0  \n",
            "4  11   1   0   3   0   0  \n"
          ]
        }
      ]
    },
    {
      "cell_type": "code",
      "source": [
        "import streamlit as st\n",
        "import pandas as pd\n",
        "from sklearn.ensemble import RandomForestClassifier\n",
        "\n",
        "# Load and preprocess the dataset\n",
        "def train_model():\n",
        "    df = pd.read_csv(\"premier_league_2223.csv\")\n",
        "\n",
        "    # Check the columns to make sure they match the expected number\n",
        "    print(\"Columns in dataset:\", df.columns)\n",
        "\n",
        "    # Filter and rename columns (make sure these columns exist in the dataset)\n",
        "    df = df[['HomeTeam', 'AwayTeam', 'FTHG', 'FTAG', 'FTR', 'HS', 'AS', 'HST', 'AST', 'HF', 'AF', 'HC', 'AC', 'HY', 'AY', 'HR', 'AR']]\n",
        "\n",
        "    # Renaming columns\n",
        "    df.columns = ['HomeTeam', 'AwayTeam', 'HomeGoals', 'AwayGoals', 'Result', 'HomeShots', 'AwayShots',\n",
        "                  'HomeShotsOnTarget', 'AwayShotsOnTarget', 'HomeFouls', 'AwayFouls', 'HomeCorners', 'AwayCorners',\n",
        "                  'HomeYellowCards', 'AwayYellowCards', 'HomeRedCards', 'AwayRedCards']\n",
        "\n",
        "    # Convert categorical variables (teams) to numeric codes\n",
        "    df['HomeTeam'] = df['HomeTeam'].astype('category').cat.codes\n",
        "    df['AwayTeam'] = df['AwayTeam'].astype('category').cat.codes\n",
        "    df['Result'] = df['Result'].map({'H': 1, 'D': 0, 'A': -1})  # Map home win, draw, away win to numerical values\n",
        "\n",
        "    # Fill missing values\n",
        "    df = df.fillna(df.mean())\n",
        "\n",
        "    # Features (X) and target variable (y)\n",
        "    X = df[['HomeTeam', 'AwayTeam', 'HomeShots', 'AwayShots', 'HomeShotsOnTarget', 'AwayShotsOnTarget', 'HomeFouls', 'AwayFouls',\n",
        "            'HomeCorners', 'AwayCorners', 'HomeYellowCards', 'AwayYellowCards', 'HomeRedCards', 'AwayRedCards']]\n",
        "\n",
        "    y = df['Result']\n",
        "\n",
        "    # Train the model (Random Forest)\n",
        "    model = RandomForestClassifier(n_estimators=100, random_state=42)\n",
        "    model.fit(X, y)\n",
        "    return model\n",
        "\n",
        "# Train the model (or load it from a saved file)\n",
        "model = train_model()\n",
        "\n",
        "# Streamlit interface\n",
        "st.title('Premier League Match Outcome Prediction')\n",
        "\n",
        "# User input for home team and away team\n",
        "home_team = st.selectbox('Select Home Team', ['Manchester United', 'Liverpool', 'Chelsea', 'Arsenal', 'Manchester City', 'Tottenham Hotspur', 'Other'])\n",
        "away_team = st.selectbox('Select Away Team', ['Manchester United', 'Liverpool', 'Chelsea', 'Arsenal', 'Manchester City', 'Tottenham Hotspur', 'Other'])\n",
        "\n",
        "# Collecting match stats (can be simplified, or more stats can be added)\n",
        "home_shots = st.slider('Home Team Shots', 0, 50, 15)\n",
        "away_shots = st.slider('Away Team Shots', 0, 50, 15)\n",
        "home_shots_on_target = st.slider('Home Team Shots on Target', 0, 20, 5)\n",
        "away_shots_on_target = st.slider('Away Team Shots on Target', 0, 20, 5)\n",
        "home_fouls = st.slider('Home Team Fouls', 0, 30, 5)\n",
        "away_fouls = st.slider('Away Team Fouls', 0, 30, 5)\n",
        "home_corners = st.slider('Home Team Corners', 0, 20, 5)\n",
        "away_corners = st.slider('Away Team Corners', 0, 20, 5)\n",
        "home_yellow_cards = st.slider('Home Team Yellow Cards', 0, 5, 1)\n",
        "away_yellow_cards = st.slider('Away Team Yellow Cards', 0, 5, 1)\n",
        "home_red_cards = st.slider('Home Team Red Cards', 0, 5, 0)\n",
        "away_red_cards = st.slider('Away Team Red Cards', 0, 5, 0)\n",
        "\n",
        "# Prepare features for prediction\n",
        "home_team_code = {'Manchester United': 0, 'Liverpool': 1, 'Chelsea': 2, 'Arsenal': 3, 'Manchester City': 4, 'Tottenham Hotspur': 5, 'Other': 6}\n",
        "away_team_code = {'Manchester United': 0, 'Liverpool': 1, 'Chelsea': 2, 'Arsenal': 3, 'Manchester City': 4, 'Tottenham Hotspur': 5, 'Other': 6}\n",
        "\n",
        "home_team_code = home_team_code.get(home_team, 6)\n",
        "away_team_code = away_team_code.get(away_team, 6)\n",
        "\n",
        "# Prepare the input features\n",
        "input_features = pd.DataFrame([[home_team_code, away_team_code, home_shots, away_shots, home_shots_on_target, away_shots_on_target, home_fouls, away_fouls,\n",
        "                                home_corners, away_corners, home_yellow_cards, away_yellow_cards, home_red_cards, away_red_cards]])\n",
        "\n",
        "# Make prediction\n",
        "prediction = model.predict(input_features)\n",
        "\n",
        "# Show prediction result\n",
        "if prediction == 1:\n",
        "    st.write(\"Prediction: Home Team Wins!\")\n",
        "elif prediction == 0:\n",
        "    st.write(\"Prediction: Draw!\")\n",
        "else:\n",
        "    st.write(\"Prediction: Away Team Wins!\")\n"
      ],
      "metadata": {
        "colab": {
          "base_uri": "https://localhost:8080/"
        },
        "collapsed": true,
        "id": "ZCj2ytaHZD-w",
        "outputId": "b919f1ce-590c-4a1b-cc07-8144f2698d15"
      },
      "execution_count": 63,
      "outputs": [
        {
          "output_type": "stream",
          "name": "stdout",
          "text": [
            "Columns in dataset: Index(['Div', 'Date', 'Time', 'HomeTeam', 'AwayTeam', 'FTHG', 'FTAG', 'FTR',\n",
            "       'HTHG', 'HTAG',\n",
            "       ...\n",
            "       'AvgC<2.5', 'AHCh', 'B365CAHH', 'B365CAHA', 'PCAHH', 'PCAHA', 'MaxCAHH',\n",
            "       'MaxCAHA', 'AvgCAHH', 'AvgCAHA'],\n",
            "      dtype='object', length=106)\n"
          ]
        },
        {
          "output_type": "stream",
          "name": "stderr",
          "text": [
            "2024-11-13 11:59:41.420 WARNING streamlit.runtime.scriptrunner_utils.script_run_context: Thread 'MainThread': missing ScriptRunContext! This warning can be ignored when running in bare mode.\n",
            "2024-11-13 11:59:41.690 \n",
            "  \u001b[33m\u001b[1mWarning:\u001b[0m to view this Streamlit app on a browser, run it with the following\n",
            "  command:\n",
            "\n",
            "    streamlit run /usr/local/lib/python3.10/dist-packages/colab_kernel_launcher.py [ARGUMENTS]\n",
            "2024-11-13 11:59:41.697 Thread 'MainThread': missing ScriptRunContext! This warning can be ignored when running in bare mode.\n",
            "2024-11-13 11:59:41.699 Thread 'MainThread': missing ScriptRunContext! This warning can be ignored when running in bare mode.\n",
            "2024-11-13 11:59:41.710 Thread 'MainThread': missing ScriptRunContext! This warning can be ignored when running in bare mode.\n",
            "2024-11-13 11:59:41.712 Thread 'MainThread': missing ScriptRunContext! This warning can be ignored when running in bare mode.\n",
            "2024-11-13 11:59:41.721 Thread 'MainThread': missing ScriptRunContext! This warning can be ignored when running in bare mode.\n",
            "2024-11-13 11:59:41.745 Session state does not function when running a script without `streamlit run`\n",
            "2024-11-13 11:59:41.758 Thread 'MainThread': missing ScriptRunContext! This warning can be ignored when running in bare mode.\n",
            "2024-11-13 11:59:41.763 Thread 'MainThread': missing ScriptRunContext! This warning can be ignored when running in bare mode.\n",
            "2024-11-13 11:59:41.776 Thread 'MainThread': missing ScriptRunContext! This warning can be ignored when running in bare mode.\n",
            "2024-11-13 11:59:41.811 Thread 'MainThread': missing ScriptRunContext! This warning can be ignored when running in bare mode.\n",
            "2024-11-13 11:59:41.825 Thread 'MainThread': missing ScriptRunContext! This warning can be ignored when running in bare mode.\n",
            "2024-11-13 11:59:41.828 Thread 'MainThread': missing ScriptRunContext! This warning can be ignored when running in bare mode.\n",
            "2024-11-13 11:59:41.837 Thread 'MainThread': missing ScriptRunContext! This warning can be ignored when running in bare mode.\n",
            "2024-11-13 11:59:41.855 Thread 'MainThread': missing ScriptRunContext! This warning can be ignored when running in bare mode.\n",
            "2024-11-13 11:59:41.899 Thread 'MainThread': missing ScriptRunContext! This warning can be ignored when running in bare mode.\n",
            "2024-11-13 11:59:41.908 Thread 'MainThread': missing ScriptRunContext! This warning can be ignored when running in bare mode.\n",
            "2024-11-13 11:59:41.924 Thread 'MainThread': missing ScriptRunContext! This warning can be ignored when running in bare mode.\n",
            "2024-11-13 11:59:41.934 Thread 'MainThread': missing ScriptRunContext! This warning can be ignored when running in bare mode.\n",
            "2024-11-13 11:59:41.937 Thread 'MainThread': missing ScriptRunContext! This warning can be ignored when running in bare mode.\n",
            "2024-11-13 11:59:41.952 Thread 'MainThread': missing ScriptRunContext! This warning can be ignored when running in bare mode.\n",
            "2024-11-13 11:59:41.958 Thread 'MainThread': missing ScriptRunContext! This warning can be ignored when running in bare mode.\n",
            "2024-11-13 11:59:41.974 Thread 'MainThread': missing ScriptRunContext! This warning can be ignored when running in bare mode.\n",
            "2024-11-13 11:59:41.985 Thread 'MainThread': missing ScriptRunContext! This warning can be ignored when running in bare mode.\n",
            "2024-11-13 11:59:41.994 Thread 'MainThread': missing ScriptRunContext! This warning can be ignored when running in bare mode.\n",
            "2024-11-13 11:59:42.006 Thread 'MainThread': missing ScriptRunContext! This warning can be ignored when running in bare mode.\n",
            "2024-11-13 11:59:42.018 Thread 'MainThread': missing ScriptRunContext! This warning can be ignored when running in bare mode.\n",
            "2024-11-13 11:59:42.037 Thread 'MainThread': missing ScriptRunContext! This warning can be ignored when running in bare mode.\n",
            "2024-11-13 11:59:42.043 Thread 'MainThread': missing ScriptRunContext! This warning can be ignored when running in bare mode.\n",
            "2024-11-13 11:59:42.058 Thread 'MainThread': missing ScriptRunContext! This warning can be ignored when running in bare mode.\n",
            "2024-11-13 11:59:42.077 Thread 'MainThread': missing ScriptRunContext! This warning can be ignored when running in bare mode.\n",
            "2024-11-13 11:59:42.088 Thread 'MainThread': missing ScriptRunContext! This warning can be ignored when running in bare mode.\n",
            "2024-11-13 11:59:42.109 Thread 'MainThread': missing ScriptRunContext! This warning can be ignored when running in bare mode.\n",
            "2024-11-13 11:59:42.115 Thread 'MainThread': missing ScriptRunContext! This warning can be ignored when running in bare mode.\n",
            "2024-11-13 11:59:42.122 Thread 'MainThread': missing ScriptRunContext! This warning can be ignored when running in bare mode.\n",
            "2024-11-13 11:59:42.138 Thread 'MainThread': missing ScriptRunContext! This warning can be ignored when running in bare mode.\n",
            "2024-11-13 11:59:42.141 Thread 'MainThread': missing ScriptRunContext! This warning can be ignored when running in bare mode.\n",
            "2024-11-13 11:59:42.148 Thread 'MainThread': missing ScriptRunContext! This warning can be ignored when running in bare mode.\n",
            "2024-11-13 11:59:42.160 Thread 'MainThread': missing ScriptRunContext! This warning can be ignored when running in bare mode.\n",
            "2024-11-13 11:59:42.162 Thread 'MainThread': missing ScriptRunContext! This warning can be ignored when running in bare mode.\n",
            "2024-11-13 11:59:42.169 Thread 'MainThread': missing ScriptRunContext! This warning can be ignored when running in bare mode.\n",
            "2024-11-13 11:59:42.170 Thread 'MainThread': missing ScriptRunContext! This warning can be ignored when running in bare mode.\n",
            "2024-11-13 11:59:42.171 Thread 'MainThread': missing ScriptRunContext! This warning can be ignored when running in bare mode.\n",
            "2024-11-13 11:59:42.178 Thread 'MainThread': missing ScriptRunContext! This warning can be ignored when running in bare mode.\n",
            "2024-11-13 11:59:42.179 Thread 'MainThread': missing ScriptRunContext! This warning can be ignored when running in bare mode.\n",
            "2024-11-13 11:59:42.180 Thread 'MainThread': missing ScriptRunContext! This warning can be ignored when running in bare mode.\n",
            "2024-11-13 11:59:42.185 Thread 'MainThread': missing ScriptRunContext! This warning can be ignored when running in bare mode.\n",
            "2024-11-13 11:59:42.187 Thread 'MainThread': missing ScriptRunContext! This warning can be ignored when running in bare mode.\n",
            "2024-11-13 11:59:42.193 Thread 'MainThread': missing ScriptRunContext! This warning can be ignored when running in bare mode.\n",
            "2024-11-13 11:59:42.194 Thread 'MainThread': missing ScriptRunContext! This warning can be ignored when running in bare mode.\n",
            "2024-11-13 11:59:42.200 Thread 'MainThread': missing ScriptRunContext! This warning can be ignored when running in bare mode.\n",
            "2024-11-13 11:59:42.201 Thread 'MainThread': missing ScriptRunContext! This warning can be ignored when running in bare mode.\n",
            "2024-11-13 11:59:42.208 Thread 'MainThread': missing ScriptRunContext! This warning can be ignored when running in bare mode.\n",
            "2024-11-13 11:59:42.211 Thread 'MainThread': missing ScriptRunContext! This warning can be ignored when running in bare mode.\n",
            "2024-11-13 11:59:42.215 Thread 'MainThread': missing ScriptRunContext! This warning can be ignored when running in bare mode.\n",
            "2024-11-13 11:59:42.220 Thread 'MainThread': missing ScriptRunContext! This warning can be ignored when running in bare mode.\n",
            "2024-11-13 11:59:42.223 Thread 'MainThread': missing ScriptRunContext! This warning can be ignored when running in bare mode.\n",
            "2024-11-13 11:59:42.227 Thread 'MainThread': missing ScriptRunContext! This warning can be ignored when running in bare mode.\n",
            "2024-11-13 11:59:42.233 Thread 'MainThread': missing ScriptRunContext! This warning can be ignored when running in bare mode.\n",
            "2024-11-13 11:59:42.234 Thread 'MainThread': missing ScriptRunContext! This warning can be ignored when running in bare mode.\n",
            "2024-11-13 11:59:42.235 Thread 'MainThread': missing ScriptRunContext! This warning can be ignored when running in bare mode.\n",
            "2024-11-13 11:59:42.240 Thread 'MainThread': missing ScriptRunContext! This warning can be ignored when running in bare mode.\n",
            "2024-11-13 11:59:42.246 Thread 'MainThread': missing ScriptRunContext! This warning can be ignored when running in bare mode.\n",
            "2024-11-13 11:59:42.252 Thread 'MainThread': missing ScriptRunContext! This warning can be ignored when running in bare mode.\n",
            "2024-11-13 11:59:42.255 Thread 'MainThread': missing ScriptRunContext! This warning can be ignored when running in bare mode.\n",
            "2024-11-13 11:59:42.256 Thread 'MainThread': missing ScriptRunContext! This warning can be ignored when running in bare mode.\n",
            "2024-11-13 11:59:42.261 Thread 'MainThread': missing ScriptRunContext! This warning can be ignored when running in bare mode.\n",
            "2024-11-13 11:59:42.265 Thread 'MainThread': missing ScriptRunContext! This warning can be ignored when running in bare mode.\n",
            "2024-11-13 11:59:42.269 Thread 'MainThread': missing ScriptRunContext! This warning can be ignored when running in bare mode.\n",
            "2024-11-13 11:59:42.270 Thread 'MainThread': missing ScriptRunContext! This warning can be ignored when running in bare mode.\n",
            "2024-11-13 11:59:42.275 Thread 'MainThread': missing ScriptRunContext! This warning can be ignored when running in bare mode.\n",
            "2024-11-13 11:59:42.279 Thread 'MainThread': missing ScriptRunContext! This warning can be ignored when running in bare mode.\n",
            "2024-11-13 11:59:42.282 Thread 'MainThread': missing ScriptRunContext! This warning can be ignored when running in bare mode.\n",
            "2024-11-13 11:59:42.298 Thread 'MainThread': missing ScriptRunContext! This warning can be ignored when running in bare mode.\n",
            "2024-11-13 11:59:42.299 Thread 'MainThread': missing ScriptRunContext! This warning can be ignored when running in bare mode.\n",
            "2024-11-13 11:59:42.396 Thread 'MainThread': missing ScriptRunContext! This warning can be ignored when running in bare mode.\n",
            "2024-11-13 11:59:42.398 Thread 'MainThread': missing ScriptRunContext! This warning can be ignored when running in bare mode.\n",
            "2024-11-13 11:59:42.401 Thread 'MainThread': missing ScriptRunContext! This warning can be ignored when running in bare mode.\n",
            "2024-11-13 11:59:42.416 Thread 'MainThread': missing ScriptRunContext! This warning can be ignored when running in bare mode.\n"
          ]
        }
      ]
    },
    {
      "cell_type": "code",
      "source": [
        "!streamlit run app.py\n"
      ],
      "metadata": {
        "colab": {
          "base_uri": "https://localhost:8080/"
        },
        "id": "htci6rdQZL5y",
        "outputId": "f50a3113-d55f-4cbe-c0e9-2f308a2bb703"
      },
      "execution_count": 65,
      "outputs": [
        {
          "output_type": "stream",
          "name": "stdout",
          "text": [
            "Usage: streamlit run [OPTIONS] TARGET [ARGS]...\n",
            "Try 'streamlit run --help' for help.\n",
            "\n",
            "Error: Invalid value: File does not exist: app.py\n"
          ]
        }
      ]
    }
  ]
}